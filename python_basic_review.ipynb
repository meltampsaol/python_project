{
  "nbformat": 4,
  "nbformat_minor": 0,
  "metadata": {
    "colab": {
      "provenance": [],
      "authorship_tag": "ABX9TyPV1Xl8GXE4rkdFcFy28AHW",
      "include_colab_link": true
    },
    "kernelspec": {
      "name": "python3",
      "display_name": "Python 3"
    },
    "language_info": {
      "name": "python"
    }
  },
  "cells": [
    {
      "cell_type": "markdown",
      "metadata": {
        "id": "view-in-github",
        "colab_type": "text"
      },
      "source": [
        "<a href=\"https://colab.research.google.com/github/meltampsaol/python_project/blob/main/python_basic_review.ipynb\" target=\"_parent\"><img src=\"https://colab.research.google.com/assets/colab-badge.svg\" alt=\"Open In Colab\"/></a>"
      ]
    },
    {
      "cell_type": "code",
      "execution_count": 2,
      "metadata": {
        "colab": {
          "base_uri": "https://localhost:8080/"
        },
        "id": "bPU8OrzUD_hp",
        "outputId": "8a3e4d8e-257b-416a-c3c3-e4b1e561fad6"
      },
      "outputs": [
        {
          "output_type": "stream",
          "name": "stdout",
          "text": [
            "Hello World\n"
          ]
        }
      ],
      "source": [
        "print('Hello World')"
      ]
    },
    {
      "cell_type": "code",
      "source": [
        "name = \"Meltamps Brown\"\n",
        "age = 54\n",
        "height = 5.3\n",
        "is_gamer = True\n",
        "print(\"Name:\", name)\n",
        "print(\"Age:\", age)\n",
        "print(\"Heigh:\",height)\n",
        "print(\"Is Gamer:\", is_gamer)"
      ],
      "metadata": {
        "colab": {
          "base_uri": "https://localhost:8080/"
        },
        "id": "S_Ky9o82FOla",
        "outputId": "92db4f64-4414-4c62-d8da-93ced2a55f8e"
      },
      "execution_count": 4,
      "outputs": [
        {
          "output_type": "stream",
          "name": "stdout",
          "text": [
            "Name: Meltamps Brown\n",
            "Age: 54\n",
            "Heigh: 5.3\n",
            "Is Gamer: True\n"
          ]
        }
      ]
    },
    {
      "cell_type": "code",
      "source": [
        "##for user input\n",
        "name = input(\"What is your name?\")\n",
        "print(\"Hello, \"+ name + \"!\")"
      ],
      "metadata": {
        "colab": {
          "base_uri": "https://localhost:8080/"
        },
        "id": "mUhVSh7rGQ3T",
        "outputId": "e524dd38-b915-47f7-8126-cd92ff300bf5"
      },
      "execution_count": 9,
      "outputs": [
        {
          "output_type": "stream",
          "name": "stdout",
          "text": [
            "What is your name?Meltamps\n",
            "Hello, Meltamps!\n"
          ]
        }
      ]
    },
    {
      "cell_type": "code",
      "source": [
        "## Mathemmatics\n",
        "x = 3\n",
        "y= 5\n",
        "print(\"x + y =\", x + y) #Addition\n",
        "print(\"x - y =\", x - y) #Subtraction\n",
        "print(\"x * y =\", x * y) #Multiplication\n",
        "print(\"x / y =\", x / y) #Division\n",
        "print(\"x // y =\", x // y) #Floor Division: Divides X by Y and then rounds the result down to the nearest whole number(integer)\n",
        "print(\"x % y =\", x % y) #Modulo Operation: Calculates the remainder of the division of x by y\n",
        "print(\"x ** y =\", x ** y) #Exponentiation Operator: 3 to the power of (value of y which is 5) 3 to 5th power 3 x 1 = 3, 3 x 3 = 9, 9 x 3 = 27, 27 x 3 = 81, 81 x 3 = 243"
      ],
      "metadata": {
        "colab": {
          "base_uri": "https://localhost:8080/"
        },
        "id": "Pfw9p6bfGTSz",
        "outputId": "bedd68e4-85dd-4762-cdd9-e090f34ca53c"
      },
      "execution_count": 12,
      "outputs": [
        {
          "output_type": "stream",
          "name": "stdout",
          "text": [
            "x + y = 8\n",
            "x - y = -2\n",
            "x * y = 15\n",
            "x / y = 0.6\n",
            "x // y = 0\n",
            "x % y = 3\n",
            "x ** y = 243\n"
          ]
        }
      ]
    },
    {
      "cell_type": "code",
      "source": [
        "#conditions\n",
        "myage = int(input(\"How old are you?\"))\n",
        "if(myage >= 18):\n",
        "   print(\"You are an adult\")\n",
        "elif(myage >= 13):\n",
        "   print(\"You are a teenager\")\n",
        "else:\n",
        "   print(\"You are a minor\")"
      ],
      "metadata": {
        "colab": {
          "base_uri": "https://localhost:8080/"
        },
        "id": "z6pv_TpPHgs5",
        "outputId": "19c17337-d1c0-444d-a890-734a91bd09c6"
      },
      "execution_count": 24,
      "outputs": [
        {
          "output_type": "stream",
          "name": "stdout",
          "text": [
            "How old are you?12\n",
            "You are a minor\n"
          ]
        }
      ]
    },
    {
      "cell_type": "code",
      "source": [
        "# Loops:\n",
        "count = 1\n",
        "while (count < 6):\n",
        "  print('Count is: ', count)\n",
        "  count += 1  #direct increment it is the same with  count = count + 1\n"
      ],
      "metadata": {
        "colab": {
          "base_uri": "https://localhost:8080/"
        },
        "id": "mTuEd1IpQGUU",
        "outputId": "accf29bb-1017-409e-b2eb-cac238ccc1de"
      },
      "execution_count": 25,
      "outputs": [
        {
          "output_type": "stream",
          "name": "stdout",
          "text": [
            "Count is:  1\n",
            "Count is:  2\n",
            "Count is:  3\n",
            "Count is:  4\n",
            "Count is:  5\n"
          ]
        }
      ]
    },
    {
      "cell_type": "code",
      "source": [
        "# For Loops\n",
        "for i in range(1, 6):\n",
        "  print('Count is: ', i)\n",
        "\n",
        "\n",
        "games = [\"Game1\", \"Game2\", \"Game3\"]\n",
        "for game in games:\n",
        "  print(\"Game: \", game)\n"
      ],
      "metadata": {
        "colab": {
          "base_uri": "https://localhost:8080/"
        },
        "id": "XCmqShYcSwCf",
        "outputId": "15bf85e0-3f2b-4d81-dff3-de3795b4c7b8"
      },
      "execution_count": 29,
      "outputs": [
        {
          "output_type": "stream",
          "name": "stdout",
          "text": [
            "Count is:  1\n",
            "Count is:  2\n",
            "Count is:  3\n",
            "Count is:  4\n",
            "Count is:  5\n",
            "Game:  Game1\n",
            "Game:  Game2\n",
            "Game:  Game3\n"
          ]
        }
      ]
    },
    {
      "cell_type": "code",
      "source": [
        "#Lists\n",
        "\n",
        "games = [\"Game1\", \"Game2\", \"Game3\"]\n",
        "print(games[0])\n",
        "print(games[1])\n",
        "print(games[2])\n",
        "\n",
        "games.append(\"Game4\")\n",
        "print(games)\n",
        "\n",
        "games.remove(\"Game1\")\n",
        "print(games)\n",
        "\n",
        "games[2] = \"Game8\"  # modify game 2 which at the fourth index to Game8\n",
        "print(games)"
      ],
      "metadata": {
        "colab": {
          "base_uri": "https://localhost:8080/"
        },
        "id": "0kV1H2WtTUiL",
        "outputId": "67cf948d-fa02-48ed-c9e0-c4795e4bb805"
      },
      "execution_count": 32,
      "outputs": [
        {
          "output_type": "stream",
          "name": "stdout",
          "text": [
            "Game1\n",
            "Game2\n",
            "Game3\n",
            "['Game1', 'Game2', 'Game3', 'Game4']\n",
            "['Game2', 'Game3', 'Game4']\n",
            "['Game2', 'Game3', 'Game8']\n"
          ]
        }
      ]
    },
    {
      "cell_type": "code",
      "source": [
        "# Creating a dynamic function\n",
        "def greet(name):\n",
        "  print(\"Hello, \" + name + \"!\")\n",
        "\n",
        "greet(\"Meltamps\")"
      ],
      "metadata": {
        "colab": {
          "base_uri": "https://localhost:8080/"
        },
        "id": "pzaaJ-DHVYVG",
        "outputId": "fd350919-0986-4cdf-d780-c7571d35a0db"
      },
      "execution_count": 33,
      "outputs": [
        {
          "output_type": "stream",
          "name": "stdout",
          "text": [
            "Hello, Meltamps!\n"
          ]
        }
      ]
    },
    {
      "cell_type": "code",
      "source": [
        "# Guessing Number Project\n",
        "import random\n",
        "\n",
        "print(\"You have three attempts available\")\n",
        "\n",
        "def guess_number(attempts, x, y):\n",
        "    secret_number = random.randint(x, y)\n",
        "    guess = 0\n",
        "    while guess != secret_number and attempts > 0:\n",
        "        guess = int(input(f\"Guess the number between {x} and {y}: \"))\n",
        "        if guess > secret_number:\n",
        "            print(\"Too high!\")\n",
        "            attempts -= 1\n",
        "        elif guess < secret_number:\n",
        "            print(\"Too low!\")\n",
        "            attempts -= 1\n",
        "        else:\n",
        "            print(\"Congratulations! You guessed the number!\")\n",
        "    if guess == secret_number:\n",
        "        play_again = input(\"Would you like to play again? (yes/no): \").lower()\n",
        "        if play_again == \"yes\":\n",
        "            reset_game(x, y)\n",
        "\n",
        "    if attempts == 0:\n",
        "        print(f\"You've run out of attempts. The secret number was: {secret_number}\")\n",
        "        reset = input(\"Do you want to reset the game? (yes/no): \").lower()\n",
        "        if reset == \"yes\":\n",
        "            reset_game(x, y)\n",
        "\n",
        "def reset_game(x, y):\n",
        "    print(\"\\nGame is resetting...\")\n",
        "    start_game()\n",
        "\n",
        "def start_game():\n",
        "    attempts = int(input(\"Enter the number of attempts that you want (integer): \"))\n",
        "    x, y = map(int, input(\"Enter the range for random numbers (e.g., 1,5): \").split(\",\"))\n",
        "    guess_number(attempts, x, y)\n",
        "\n",
        "# Launch the game\n",
        "start_game()\n",
        "\n",
        ""
      ],
      "metadata": {
        "colab": {
          "base_uri": "https://localhost:8080/"
        },
        "id": "NhXVHl6wWkWM",
        "outputId": "f7b0a536-cd93-4188-ed25-d85ffcefd9a6"
      },
      "execution_count": null,
      "outputs": [
        {
          "output_type": "stream",
          "name": "stdout",
          "text": [
            "You have three attempts available\n",
            "Enter the number of attempts that you want (integer): 5\n",
            "Enter the range for random numbers (e.g., 1,5): 1,20\n",
            "Guess the number between 1 and 20: 15\n",
            "Too high!\n",
            "Guess the number between 1 and 20: 14\n",
            "Too high!\n",
            "Guess the number between 1 and 20: 10\n",
            "Too high!\n",
            "Guess the number between 1 and 20: 9\n",
            "Too high!\n",
            "Guess the number between 1 and 20: 5\n",
            "Too high!\n",
            "You've run out of attempts. The secret number was: 1\n",
            "Do you want to reset the game? (yes/no): yes\n",
            "\n",
            "Game is resetting...\n",
            "Enter the number of attempts that you want (integer): 10\n",
            "Enter the range for random numbers (e.g., 1,5): 1,20\n",
            "Guess the number between 1 and 20: 5\n",
            "Too low!\n",
            "Guess the number between 1 and 20: 15\n",
            "Too high!\n",
            "Guess the number between 1 and 20: 12\n",
            "Too high!\n",
            "Guess the number between 1 and 20: 8\n",
            "Too high!\n",
            "Guess the number between 1 and 20: 6\n",
            "Congratulations! You guessed the number!\n"
          ]
        }
      ]
    }
  ]
}