{
  "nbformat": 4,
  "nbformat_minor": 0,
  "metadata": {
    "colab": {
      "provenance": [],
      "authorship_tag": "ABX9TyOsz25qG/tPDiNKB9PSuwvC",
      "include_colab_link": true
    },
    "kernelspec": {
      "name": "python3",
      "display_name": "Python 3"
    },
    "language_info": {
      "name": "python"
    }
  },
  "cells": [
    {
      "cell_type": "markdown",
      "metadata": {
        "id": "view-in-github",
        "colab_type": "text"
      },
      "source": [
        "<a href=\"https://colab.research.google.com/github/meltampsaol/python_project/blob/main/python_basic_review.ipynb\" target=\"_parent\"><img src=\"https://colab.research.google.com/assets/colab-badge.svg\" alt=\"Open In Colab\"/></a>"
      ]
    },
    {
      "cell_type": "code",
      "execution_count": 2,
      "metadata": {
        "colab": {
          "base_uri": "https://localhost:8080/"
        },
        "id": "bPU8OrzUD_hp",
        "outputId": "8a3e4d8e-257b-416a-c3c3-e4b1e561fad6"
      },
      "outputs": [
        {
          "output_type": "stream",
          "name": "stdout",
          "text": [
            "Hello World\n"
          ]
        }
      ],
      "source": [
        "print('Hello World')"
      ]
    },
    {
      "cell_type": "code",
      "source": [
        "name = \"Meltamps Brown\"\n",
        "age = 54\n",
        "height = 5.3\n",
        "is_gamer = True\n",
        "print(\"Name:\", name)\n",
        "print(\"Age:\", age)\n",
        "print(\"Heigh:\",height)\n",
        "print(\"Is Gamer:\", is_gamer)"
      ],
      "metadata": {
        "colab": {
          "base_uri": "https://localhost:8080/"
        },
        "id": "S_Ky9o82FOla",
        "outputId": "92db4f64-4414-4c62-d8da-93ced2a55f8e"
      },
      "execution_count": 4,
      "outputs": [
        {
          "output_type": "stream",
          "name": "stdout",
          "text": [
            "Name: Meltamps Brown\n",
            "Age: 54\n",
            "Heigh: 5.3\n",
            "Is Gamer: True\n"
          ]
        }
      ]
    },
    {
      "cell_type": "code",
      "source": [
        "##for user input\n",
        "name = input(\"What is your name?\")\n",
        "print(\"Hello, \"+ name + \"!\")"
      ],
      "metadata": {
        "colab": {
          "base_uri": "https://localhost:8080/"
        },
        "id": "mUhVSh7rGQ3T",
        "outputId": "e524dd38-b915-47f7-8126-cd92ff300bf5"
      },
      "execution_count": 9,
      "outputs": [
        {
          "output_type": "stream",
          "name": "stdout",
          "text": [
            "What is your name?Meltamps\n",
            "Hello, Meltamps!\n"
          ]
        }
      ]
    },
    {
      "cell_type": "code",
      "source": [],
      "metadata": {
        "id": "Pfw9p6bfGTSz"
      },
      "execution_count": null,
      "outputs": []
    }
  ]
}