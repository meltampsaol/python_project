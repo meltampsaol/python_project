{
  "nbformat": 4,
  "nbformat_minor": 0,
  "metadata": {
    "colab": {
      "provenance": [],
      "authorship_tag": "ABX9TyM8CB0JYtaPbVDbwe7zuF+E",
      "include_colab_link": true
    },
    "kernelspec": {
      "name": "python3",
      "display_name": "Python 3"
    },
    "language_info": {
      "name": "python"
    }
  },
  "cells": [
    {
      "cell_type": "markdown",
      "metadata": {
        "id": "view-in-github",
        "colab_type": "text"
      },
      "source": [
        "<a href=\"https://colab.research.google.com/github/meltampsaol/python_project/blob/main/python_basic_review.ipynb\" target=\"_parent\"><img src=\"https://colab.research.google.com/assets/colab-badge.svg\" alt=\"Open In Colab\"/></a>"
      ]
    },
    {
      "cell_type": "code",
      "execution_count": 2,
      "metadata": {
        "colab": {
          "base_uri": "https://localhost:8080/"
        },
        "id": "bPU8OrzUD_hp",
        "outputId": "8a3e4d8e-257b-416a-c3c3-e4b1e561fad6"
      },
      "outputs": [
        {
          "output_type": "stream",
          "name": "stdout",
          "text": [
            "Hello World\n"
          ]
        }
      ],
      "source": [
        "print('Hello World')"
      ]
    },
    {
      "cell_type": "code",
      "source": [
        "name = \"Meltamps Brown\"\n",
        "age = 54\n",
        "height = 5.3\n",
        "is_gamer = True\n",
        "print(\"Name:\", name)\n",
        "print(\"Age:\", age)\n",
        "print(\"Heigh:\",height)\n",
        "print(\"Is Gamer:\", is_gamer)"
      ],
      "metadata": {
        "colab": {
          "base_uri": "https://localhost:8080/"
        },
        "id": "S_Ky9o82FOla",
        "outputId": "92db4f64-4414-4c62-d8da-93ced2a55f8e"
      },
      "execution_count": 4,
      "outputs": [
        {
          "output_type": "stream",
          "name": "stdout",
          "text": [
            "Name: Meltamps Brown\n",
            "Age: 54\n",
            "Heigh: 5.3\n",
            "Is Gamer: True\n"
          ]
        }
      ]
    },
    {
      "cell_type": "code",
      "source": [
        "##for user input\n",
        "name = input(\"What is your name?\")\n",
        "print(\"Hello, \"+ name + \"!\")"
      ],
      "metadata": {
        "colab": {
          "base_uri": "https://localhost:8080/"
        },
        "id": "mUhVSh7rGQ3T",
        "outputId": "e524dd38-b915-47f7-8126-cd92ff300bf5"
      },
      "execution_count": 9,
      "outputs": [
        {
          "output_type": "stream",
          "name": "stdout",
          "text": [
            "What is your name?Meltamps\n",
            "Hello, Meltamps!\n"
          ]
        }
      ]
    },
    {
      "cell_type": "code",
      "source": [
        "## Mathemmatics\n",
        "x = 3\n",
        "y= 5\n",
        "print(\"x + y =\", x + y) #Addition\n",
        "print(\"x - y =\", x - y) #Subtraction\n",
        "print(\"x * y =\", x * y) #Multiplication\n",
        "print(\"x / y =\", x / y) #Division\n",
        "print(\"x // y =\", x // y) #Floor Division: Divides X by Y and then rounds the result down to the nearest whole number(integer)\n",
        "print(\"x % y =\", x % y) #Modulo Operation: Calculates the remainder of the division of x by y\n",
        "print(\"x ** y =\", x ** y) #Exponentiation Operator: 3 to the power of (value of y which is 5) 3 to 5th power 3 x 1 = 3, 3 x 3 = 9, 9 x 3 = 27, 27 x 3 = 81, 81 x 3 = 243"
      ],
      "metadata": {
        "colab": {
          "base_uri": "https://localhost:8080/"
        },
        "id": "Pfw9p6bfGTSz",
        "outputId": "bedd68e4-85dd-4762-cdd9-e090f34ca53c"
      },
      "execution_count": 12,
      "outputs": [
        {
          "output_type": "stream",
          "name": "stdout",
          "text": [
            "x + y = 8\n",
            "x - y = -2\n",
            "x * y = 15\n",
            "x / y = 0.6\n",
            "x // y = 0\n",
            "x % y = 3\n",
            "x ** y = 243\n"
          ]
        }
      ]
    },
    {
      "cell_type": "code",
      "source": [
        "myage = int(input(\"How old are you?\"))\n",
        "if(myage < 18):\n",
        "   print(\"You are a minor\")\n",
        "else:\n",
        "   print(\"You are an adult\")"
      ],
      "metadata": {
        "colab": {
          "base_uri": "https://localhost:8080/"
        },
        "id": "z6pv_TpPHgs5",
        "outputId": "87975c0d-50eb-4c9a-d692-af4ef16e8b84"
      },
      "execution_count": 17,
      "outputs": [
        {
          "output_type": "stream",
          "name": "stdout",
          "text": [
            "How old are you?19\n",
            "You are an adult\n"
          ]
        }
      ]
    },
    {
      "cell_type": "code",
      "source": [],
      "metadata": {
        "id": "mTuEd1IpQGUU"
      },
      "execution_count": null,
      "outputs": []
    }
  ]
}